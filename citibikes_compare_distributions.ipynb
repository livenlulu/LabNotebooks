{
 "cells": [
  {
   "cell_type": "code",
   "execution_count": 96,
   "metadata": {
    "collapsed": false,
    "scrolled": true
   },
   "outputs": [
    {
     "name": "stdout",
     "output_type": "stream",
     "text": [
      "Populating the interactive namespace from numpy and matplotlib\n"
     ]
    }
   ],
   "source": [
    "# Import statements\n",
    "import pylab as pl\n",
    "import pandas as pd\n",
    "import numpy as np\n",
    "%pylab inline\n",
    "import os\n",
    "import json\n",
    "s = json.load( open(os.getenv ('PUI2015')+\"/fbb_matplotlibrc.json\") )\n",
    "pl.rcParams.update(s)"
   ]
  },
  {
   "cell_type": "code",
   "execution_count": 97,
   "metadata": {
    "collapsed": false,
    "scrolled": false
   },
   "outputs": [],
   "source": [
    "# Read in Citibike dataset from January 2015\n",
    "# Available at https://www.citibikenyc.com/system-data\n",
    "df=pd.read_csv(os.getenv('PUI2015')+'/notebooks/data/201501-citibike-tripdata_alt.csv')"
   ]
  },
  {
   "cell_type": "code",
   "execution_count": 99,
   "metadata": {
    "collapsed": false
   },
   "outputs": [],
   "source": [
    "# df is the dataframe where the content of the csv file is stored\n",
    "df['ageL'] = 2015-df['birth year'][(df['usertype']=='Subscriber') & (df['tripduration']>=3000)]\n",
    "df['ageS'] = 2015-df['birth year'][(df['usertype']=='Subscriber') & (df['tripduration']<3000)]\n",
    "# note that with dataframes i can refer to variables as dictionary keys, i.e. df['starttime'] or as attributes: df.starttime. \n",
    "\n",
    "#df.head()\n",
    "#pd.unique(df.usertype)"
   ]
  },
  {
   "cell_type": "code",
   "execution_count": 85,
   "metadata": {
    "collapsed": false,
    "scrolled": false
   },
   "outputs": [
    {
     "name": "stdout",
     "output_type": "stream",
     "text": [
      "[ 0 10 20 30 40 50 60 70 80 90]\n",
      "KS 0.0569347918508\n"
     ]
    },
    {
     "data": {
      "image/png": "[encoded data removed]",
      "text/plain": [
       "<matplotlib.figure.Figure at 0x133a97b10>"
      ]
     },
     "metadata": {},
     "output_type": "display_data"
    }
   ],
   "source": [
    "# Create age bins\n",
    "bins = np.arange(0, 99, 10)\n",
    "print bins\n",
    "\n",
    "# Aggregates of ages\n",
    "ag1 = df.ageS.groupby(pd.cut(df.ageS, bins)).agg([count_nonzero])\n",
    "ag2 = df.ageL.groupby(pd.cut(df.ageL, bins)).agg([count_nonzero])\n",
    "#ag1.plot(kind=\"bar\")\n",
    "#ag2.plot(kind=\"bar\")\n",
    "\n",
    "# Aggregate the cumulative sum of each age group\n",
    "cs1=df.ageS.groupby(pd.cut(df.ageS, bins)).agg([count_nonzero]).cumsum()\n",
    "cs2=df.ageL.groupby(pd.cut(df.ageL, bins)).agg([count_nonzero]).cumsum()\n",
    "#print cs1\n",
    "#print cs2\n",
    "#cs1.plot()\n",
    "#cs2.plot()\n",
    "\n",
    "#print df.ageS\n",
    "#print pd.cut(df['ageS'], bins)\n",
    "#print df.ageS.groupby(pd.cut(df.ageS, bins))\n",
    "#print df.ageS.groupby(pd.cut(df.ageS, bins)).agg([count_nonzero])\n",
    "#print df.ageS.groupby(pd.cut(df.ageS, bins)).agg([count_nonzero]).cumsum()\n",
    "\n",
    "# Plot and find KS\n",
    "pl.plot(bins[:-1]+5,cs1/cs1.max())\n",
    "pl.plot(bins[:-1]+5,cs2/cs2.max())\n",
    "KS = np.nanmax(np.array(cs1/cs1.max())-np.array(cs2/cs2.max()))\n",
    "print \"KS\", KS"
   ]
  },
  {
   "cell_type": "code",
   "execution_count": null,
   "metadata": {
    "collapsed": false
   },
   "outputs": [],
   "source": [
    "values=[np.zeros(len(bins)-1),np.zeros(len(bins)-1)]\n",
    "values[0]=np.array(cs1/cs1.max())\n",
    "values[1]=np.array(cs2/cs2.max())\n",
    "#values=np.array([[1,2,3],[1,2,3]])\n",
    "\n",
    "values=np.array(values).squeeze(axis=2)\n",
    "values[np.isnan(values)]=0"
   ]
  },
  {
   "cell_type": "code",
   "execution_count": null,
   "metadata": {
    "collapsed": false
   },
   "outputs": [],
   "source": [
    "#%%timeit -n 100\n",
    "E = np.empty_like(values)\n",
    "\n",
    "for j in range(len(values[0])):\n",
    "    for i in range(2):\n",
    "        E[i][j] = sum(values[i,:])*sum(values[:,j])/sum(values)\n",
    "#%whos\n"
   ]
  },
  {
   "cell_type": "code",
   "execution_count": null,
   "metadata": {
    "collapsed": false,
    "scrolled": false
   },
   "outputs": [],
   "source": [
    "print E \n",
    "print len(values[0])\n",
    "print \"chisq\" , nansum((values-E)**2/E)\n",
    "print values-E"
   ]
  },
  {
   "cell_type": "code",
   "execution_count": null,
   "metadata": {
    "collapsed": false
   },
   "outputs": [],
   "source": [
    "#%%timeit -n 100 \n",
    "\n",
    "\n",
    "E = np.outer(sum(values,axis=1),sum(values,axis=0))\n",
    "E=(E/sum(values))#.squeeze(axis=2)\n",
    "#%whos\n",
    "print E.shape, values.shape"
   ]
  },
  {
   "cell_type": "code",
   "execution_count": null,
   "metadata": {
    "collapsed": false
   },
   "outputs": [],
   "source": [
    "\n",
    "\n",
    "print E\n",
    "print len(values[0])\n",
    "print \"chisq\" , nansum((values-E)**2/E)\n",
    "print values-E"
   ]
  },
  {
   "cell_type": "code",
   "execution_count": null,
   "metadata": {
    "collapsed": false
   },
   "outputs": [],
   "source": [
    "c1 = (cs1-cs1.mean())/cs1.std()\n",
    "c2 = (cs2-cs2.mean())/cs2.std()\n",
    "print nansum(c1*c2)/(len(bins)-2)\n",
    "\n",
    "pho=1-(6*nansum((c1-c2)**2))/((len(bins)-2)*((len(bins)-2)**2-1))\n",
    "print pho\n",
    "print pho*np.sqrt(((len(bins)-2)-2)/(1-pho**2))"
   ]
  },
  {
   "cell_type": "code",
   "execution_count": null,
   "metadata": {
    "collapsed": false,
    "scrolled": false
   },
   "outputs": [],
   "source": [
    "#print df.ageS, df.ageS.cumsum()\n",
    "bins = np.arange(0, 99, 10)\n",
    "cs1=df.ageS.groupby(pd.cut(df.ageS, bins)).agg([count_nonzero])\n",
    "\n",
    "cs1.plot(kind='bar')\n",
    "m=np.nanmean(df.ageS)\n",
    "s=np.std(df.ageS)\n",
    "print m, s\n",
    "def model( x) : \n",
    "    return 1./(s*np.sqrt(2*np.pi))*exp(-((x-m)/2./2./s)**2)\n",
    "\n",
    "print model(m), model(m-s), model(m+2)\n",
    "\n",
    "\n",
    "cs1.plot()\n",
    "pl.figure()\n",
    "pl.plot(bins,np.vectorize(model)(bins)*np.nansum(cs1))\n",
    "pl.figure()\n",
    "pl.plot(cs1.cumsum()/cs1.cumsum().max(),'g')\n",
    "pl.plot(model(bins[:-1]).cumsum()/model(bins[:-1]).cumsum().max(),'k')\n",
    "\n",
    "KS=np.nanmax(np.array(cs1.cumsum()/cs1.cumsum().max())-np.array(model(bins[:-1]).cumsum()/model(bins[:-1]).cumsum().max()))\n",
    "print KS"
   ]
  },
  {
   "cell_type": "code",
   "execution_count": null,
   "metadata": {
    "collapsed": true
   },
   "outputs": [],
   "source": [
    "import scipy.stats"
   ]
  },
  {
   "cell_type": "code",
   "execution_count": null,
   "metadata": {
    "collapsed": false,
    "scrolled": true
   },
   "outputs": [],
   "source": [
    "print cs1.count_nonzero\n",
    "A, crit, sig = scipy.stats.anderson(df.ageS[~np.isnan(df.ageS)], dist='norm')\n",
    "print A, crit, sig\n",
    "A, crit, sig = scipy.stats.anderson(np.random.randn(1000), dist='norm')\n",
    "print A, crit, sig\n",
    "A, crit, sig = scipy.stats.anderson(np.random.chisquare(1000,10000), dist='norm')\n",
    "print A, crit, sig"
   ]
  },
  {
   "cell_type": "code",
   "execution_count": null,
   "metadata": {
    "collapsed": false
   },
   "outputs": [],
   "source": [
    "ks=scipy.stats.kstest(df.ageS[~np.isnan(df.ageS)],'norm')\n",
    "print ks\n",
    "print \"\"\n",
    "ks = scipy.stats.kstest(np.random.randn(1000), 'norm')\n",
    "print ks\n",
    "print \"\"\n",
    "ks = scipy.stats.kstest(np.random.chisquare(1000,10000), 'norm')\n",
    "print ks\n",
    "print \"\"\n"
   ]
  }
 ],
 "metadata": {
  "kernelspec": {
   "display_name": "Python 2",
   "language": "python",
   "name": "python2"
  },
  "language_info": {
   "codemirror_mode": {
    "name": "ipython",
    "version": 2
   },
   "file_extension": ".py",
   "mimetype": "text/x-python",
   "name": "python",
   "nbconvert_exporter": "python",
   "pygments_lexer": "ipython2",
   "version": "2.7.10"
  }
 },
 "nbformat": 4,
 "nbformat_minor": 0
}
